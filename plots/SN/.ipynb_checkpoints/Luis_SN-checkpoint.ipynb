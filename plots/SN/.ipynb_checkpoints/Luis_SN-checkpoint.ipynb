{
 "cells": [
  {
   "cell_type": "code",
   "execution_count": 48,
   "metadata": {},
   "outputs": [],
   "source": [
    "import numpy as np\n",
    "from scipy.integrate import odeint\n",
    "from scipy import interpolate\n",
    "from scipy.integrate import quad\n",
    "from scipy.interpolate import splrep, splev, UnivariateSpline\n",
    "from scipy.misc import derivative\n",
    "from scipy.optimize import fsolve\n",
    "import matplotlib.pyplot as plt\n",
    "import matplotlib as pl\n",
    "import pandas as pd\n",
    "\n",
    "#for LCDM\n",
    "Om0 = 0.27\n",
    "Ob0 = 0.045\n",
    "Or0 = 0\n",
    "ns = 0.96\n",
    "h = 0.67\n",
    "sigma_8 = 0.8\n",
    "\n",
    "#for wCDM\n",
    "Om0_w = 0.27\n",
    "Ob0_w = 0.045\n",
    "Or0_w = 0\n",
    "ns_w = 0.96\n",
    "h_w = 0.67\n",
    "sigma_8_w = 0.8\n",
    "w = -0.985\n",
    "\n",
    "\n",
    "#for LCDM\n",
    "def hubble_normalized_z(z):\n",
    "    return np.sqrt(Om0*(1.+z)**3. + Or0*(1+z)**4 + (1.-Om0-Or0))\n",
    "def inverse_hubble_normalized_z(z):\n",
    "    return 1./hubble_normalized_z(z)\n",
    "def hubble_normalized_a(a):\n",
    "    return hubble_normalized_z(1./a-1)\n",
    "def hubble_prime_normalized_a(a):\n",
    "    return derivative(hubble_normalized_a,a,dx=1e-6)\n",
    "def D_H():\n",
    "    return 2997.98/h\n",
    "def comoving_distance_z(z1):\n",
    "    return D_H()*quad(inverse_hubble_normalized_z,0,z1)[0]\n",
    "def angular_diameter_distance_z(z):\n",
    "    d_c = comoving_distance_z(z)/(1.+z)\n",
    "    return d_c\n",
    "def luminosity_distance_z(z):\n",
    "    d_l = comoving_distance_z(z)*(1.+z)\n",
    "    return d_l\n",
    "def z_from_luminosity_distance(distance):\n",
    "    def dis(z):\n",
    "        return luminosity_distance_z(z) - distance\n",
    "    return fsolve(dis,0.5)[0]\n",
    "def Omega_m_a(a):\n",
    "    return Om0*a**(-3)/hubble_normalized_a(a)**2.\n",
    "def Omega_m_z(z):\n",
    "    return Omega_m_a(1./(1.+z))\n",
    "\n",
    "\n",
    "#for wCDM\n",
    "def wcdm_hubble_normalized_z(z):\n",
    "    return np.sqrt(Om0_w*(1.+z)**3. + Or0_w*(1+z)**4 + (1.-Om0_w-Or0_w)*(1.+z)**(3*(1+w)))\n",
    "def wcdm_inverse_hubble_normalized_z(z):\n",
    "    return 1./wcdm_hubble_normalized_z(z)\n",
    "def wcdm_comoving_distance_z(z1):\n",
    "    return D_H()*quad(wcdm_inverse_hubble_normalized_z,0,z1)[0]\n",
    "def wcdm_luminosity_distance_z(z):\n",
    "    d_l = wcdm_comoving_distance_z(z)*(1.+z)\n",
    "    return d_l\n",
    "\n",
    "\n",
    "\n"
   ]
  },
  {
   "cell_type": "code",
   "execution_count": 50,
   "metadata": {},
   "outputs": [
    {
     "name": "stderr",
     "output_type": "stream",
     "text": [
      "C:\\Users\\52811\\AppData\\Local\\Continuum\\anaconda2\\envs\\py36\\lib\\site-packages\\ipykernel_launcher.py:13: RuntimeWarning: divide by zero encountered in log10\n",
      "  del sys.path[0]\n",
      "C:\\Users\\52811\\AppData\\Local\\Continuum\\anaconda2\\envs\\py36\\lib\\site-packages\\ipykernel_launcher.py:14: RuntimeWarning: divide by zero encountered in log10\n",
      "  \n"
     ]
    },
    {
     "data": {
      "image/png": "[encoded data removed]",
      "text/plain": [
       "<Figure size 640x480 with 1 Axes>"
      ]
     },
     "metadata": {
      "needs_background": "light"
     },
     "output_type": "display_data"
    }
   ],
   "source": [
    "SN_sample = np.loadtxt('will_sample.txt')\n",
    "\n",
    "z=np.linspace(0., 2.5, 100)\n",
    "#z2=np.linspace(0., 0.5, 100)\n",
    "#Om0, delta = 0.26, -0.30\n",
    "mu_b = -19.29\n",
    "#mu_b_LCDM = -19.34\n",
    "#mu_b_wCDM = -19.285\n",
    "\n",
    "dist_mod = []\n",
    "wcdm_dist_mod = []\n",
    "for ii in z:\n",
    "    dist_mod      += [5*np.log10(luminosity_distance_z(ii))+25+mu_b]\n",
    "    wcdm_dist_mod += [5*np.log10(wcdm_luminosity_distance_z(ii))+25+mu_b]\n",
    "\n",
    "plt.figure(figsize=(8, 6), dpi=80)\n",
    "plt.plot(z, dist_mod, label='LCDM')\n",
    "plt.plot(z,wcdm_dist_mod, label='wCDM')\n",
    "plt.errorbar(SN_sample[:,0], SN_sample[:,1], yerr=SN_sample[:,2], fmt='.b', capsize=2)\n",
    "plt.xlabel('z')\n",
    "plt.ylabel('Distance Modulus')\n",
    "plt.legend()\n",
    "plt.show()"
   ]
  },
  {
   "cell_type": "code",
   "execution_count": null,
   "metadata": {},
   "outputs": [],
   "source": []
  }
 ],
 "metadata": {
  "kernelspec": {
   "display_name": "Python 3",
   "language": "python",
   "name": "python3"
  },
  "language_info": {
   "codemirror_mode": {
    "name": "ipython",
    "version": 3
   },
   "file_extension": ".py",
   "mimetype": "text/x-python",
   "name": "python",
   "nbconvert_exporter": "python",
   "pygments_lexer": "ipython3",
   "version": "3.6.13"
  }
 },
 "nbformat": 4,
 "nbformat_minor": 2
}
