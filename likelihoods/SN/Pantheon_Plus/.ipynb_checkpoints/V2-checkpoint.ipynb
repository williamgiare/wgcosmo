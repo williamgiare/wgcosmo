{
 "cells": [
  {
   "cell_type": "code",
   "execution_count": 1,
   "id": "5fdafef6-bad6-4eb0-9532-335657b2bbed",
   "metadata": {
    "tags": []
   },
   "outputs": [],
   "source": [
    "import numpy as np\n",
    "import scipy.linalg as la\n",
    "import numexpr as ne\n",
    "import pandas as pd\n",
    "from pandas import read_table\n",
    "import os,sys\n",
    "try:\n",
    "    import numexpr as ne\n",
    "except ImportError:\n",
    "    raise io_mp.MissingLibraryError(\n",
    "        \"This likelihood has intensive array manipulations. You \"\n",
    "        \"have to install the numexpr Python package. Please type:\\n\"\n",
    "        \"(sudo) pip install numexpr --user\")"
   ]
  },
  {
   "cell_type": "code",
   "execution_count": 2,
   "id": "f5d760cd-845e-4f63-a3fc-e6e1ac9e4801",
   "metadata": {
    "tags": []
   },
   "outputs": [
    {
     "name": "stdout",
     "output_type": "stream",
     "text": [
      "Importiong GRBLike as cobaya likelihood\n"
     ]
    }
   ],
   "source": [
    "try:\n",
    "    from cobaya.likelihood import Likelihood\n",
    "    print('Importiong GRBLike as cobaya likelihood')\n",
    "except:\n",
    "    class Likelihood:  # dummy class to inherit if cobaya is missing\n",
    "        print('dummy class to inherit')\n",
    "        pass"
   ]
  },
  {
   "cell_type": "code",
   "execution_count": 15,
   "id": "623e275d-9d9c-4ce7-81ba-68b41e21e565",
   "metadata": {
    "tags": []
   },
   "outputs": [],
   "source": [
    "class Pantheon_Plus(Likelihood):\n",
    "    \n",
    "    name: str = \"Pantheon_Plus\"\n",
    "    \n",
    "    def initialize(self):\n",
    "        \n",
    "        self.path_covmat = '/Users/SM1WG/Desktop/Pantheon_plus/data/Pantheon+SH0ES_STAT+SYS.cov'\n",
    "        self.path_lc = '/Users/SM1WG/Desktop/Pantheon_plus/data/Pantheon+SH0ES.dat'\n",
    "        self.z_min=0.01\n",
    "        \n",
    "        #Reading the covariance matrix\n",
    "        with open(self.path_covmat, 'r') as text:\n",
    "            length = int(text.readline())\n",
    "        self.C00 = read_table(self.path_covmat).to_numpy().reshape((length, length)) \n",
    "         \n",
    "        #Reading ligth curve params\n",
    "        with open(self.path_lc, 'r') as text:\n",
    "            clean_first_line = text.readline()[1:].strip()\n",
    "            names = [e.strip().replace('3rd', 'third')\n",
    "                     for e in clean_first_line.split()]\n",
    "        self.light_curve_params = read_table(self.path_lc, sep=' ', names=names, header=0, index_col=False)\n",
    "        \n",
    "        C00 = self.C00\n",
    "        covm = ne.evaluate(\"C00\")\n",
    "        \n",
    "        sn = self.light_curve_params\n",
    "        true_size=0\n",
    "        ignored = 0\n",
    "        for ii in range(len(self.light_curve_params.zHD)):\n",
    "                if self.light_curve_params.zHD[ii]>self.z_min:\n",
    "                        true_size+=1\n",
    "                else:\n",
    "                        ignored+=1\n",
    "        #print(true_size,ignored)\n",
    "        self.true_size = true_size\n",
    "        newcovm = np.zeros((true_size,true_size), 'float64')\n",
    "        newcovm=covm[ignored:,ignored:]\n",
    "        self.cov = la.cholesky(newcovm, lower=True, overwrite_a=True)\n",
    "\n",
    "        \n",
    "    def get_requirements(self):\n",
    "        \"\"\"\n",
    "         return dictionary specifying quantities calculated by a theory code are needed\n",
    "\n",
    "         e.g. here we need C_L^{tt} to lmax=2500 and the H0 value\n",
    "        \"\"\"\n",
    "        reqs = {\"angular_diameter_distance\": {\"z\": self.zcmb} , 'M':None}\n",
    "\n",
    "        return reqs\n",
    "    \n",
    "\n",
    "    def logp(self, **params_values):\n",
    "        \n",
    "        M = self.provider.get_param(\"M\")\n",
    "        \n",
    "        redshifts = self.light_curve_params.zHD\n",
    "        size = redshifts.size\n",
    "        \n",
    "        moduli = np.empty((self.true_size, ))\n",
    "        Mb_obs = np.empty((self.true_size, ))\n",
    "        good_z = 0\n",
    "        \n",
    "        for index, row in self.light_curve_params.iterrows():\n",
    "            z_cmb = row['zHD']\n",
    "            z_hel = row['zHEL']\n",
    "            Mb_corr = row['m_b_corr']\n",
    "            #this condition allows to extract the data with \"good z\", i.e. z>z_min\n",
    "            if z_cmb > self.z_min:\n",
    "                moduli[good_z] = 5 * np.log10((1+z_cmb)*(1+z_hel)*self.provider.get_angular_diameter_distance(z_cmb)) + 25\n",
    "                Mb_obs[good_z] = Mb_corr\n",
    "                good_z+=1\n",
    "                \n",
    "        residuals = np.empty((self.true_size,))\n",
    "        sn = self.light_curve_params\n",
    "        residuals = Mb_obs - M\n",
    "        residuals -= moduli\n",
    "        residuals = la.solve_triangular(self.cov, residuals, lower=True, check_finite=False)\n",
    "        chi2 = (residuals**2).sum()\n",
    "    \n",
    "        return -0.5 * chi2"
   ]
  },
  {
   "cell_type": "code",
   "execution_count": 16,
   "id": "867ac480-c8a3-4917-b3ee-933dace7aad7",
   "metadata": {
    "tags": []
   },
   "outputs": [],
   "source": [
    "test=Pantheon_Plus()"
   ]
  },
  {
   "cell_type": "code",
   "execution_count": 17,
   "id": "53442caa-2b14-4320-82e5-ac8f02b852b6",
   "metadata": {
    "tags": []
   },
   "outputs": [
    {
     "data": {
      "text/plain": [
       "-29626501.0155288"
      ]
     },
     "execution_count": 17,
     "metadata": {},
     "output_type": "execute_result"
    }
   ],
   "source": [
    "test.logp()"
   ]
  }
 ],
 "metadata": {
  "kernelspec": {
   "display_name": "Python 3 (ipykernel)",
   "language": "python",
   "name": "python3"
  },
  "language_info": {
   "codemirror_mode": {
    "name": "ipython",
    "version": 3
   },
   "file_extension": ".py",
   "mimetype": "text/x-python",
   "name": "python",
   "nbconvert_exporter": "python",
   "pygments_lexer": "ipython3",
   "version": "3.11.2"
  }
 },
 "nbformat": 4,
 "nbformat_minor": 5
}
