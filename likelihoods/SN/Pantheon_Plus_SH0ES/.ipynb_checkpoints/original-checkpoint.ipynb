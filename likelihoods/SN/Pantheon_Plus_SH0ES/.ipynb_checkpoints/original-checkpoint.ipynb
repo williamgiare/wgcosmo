{
 "cells": [
  {
   "cell_type": "code",
   "execution_count": 1,
   "id": "4fa8f407-95cb-4d6a-bee7-e1ac8b449768",
   "metadata": {
    "tags": []
   },
   "outputs": [],
   "source": [
    "import numpy as np\n",
    "import scipy.linalg as la\n",
    "import numexpr as ne\n",
    "import pandas as pd\n",
    "from pandas import read_table\n",
    "try:\n",
    "    import numexpr as ne\n",
    "except ImportError:\n",
    "    raise io_mp.MissingLibraryError(\n",
    "        \"This likelihood has intensive array manipulations. You \"\n",
    "        \"have to install the numexpr Python package. Please type:\\n\"\n",
    "        \"(sudo) pip install numexpr --user\")"
   ]
  },
  {
   "cell_type": "code",
   "execution_count": 2,
   "id": "6552fe9c-8f65-49c9-937b-d11b09c95e04",
   "metadata": {
    "tags": []
   },
   "outputs": [
    {
     "name": "stdout",
     "output_type": "stream",
     "text": [
      "Importiong GRBLike as cobaya likelihood\n"
     ]
    }
   ],
   "source": [
    "try:\n",
    "    from cobaya.likelihood import Likelihood\n",
    "    print('Importiong GRBLike as cobaya likelihood')\n",
    "except:\n",
    "    class Likelihood:  # dummy class to inherit if cobaya is missing\n",
    "        print('dummy class to inherit')\n",
    "        pass"
   ]
  },
  {
   "cell_type": "code",
   "execution_count": 13,
   "id": "770ab2e5-2307-479f-951c-5b23560c5155",
   "metadata": {
    "tags": []
   },
   "outputs": [],
   "source": [
    "class Pantheon_Plus:\n",
    "    \n",
    "    \n",
    "    def __init__(\n",
    "        \n",
    "        self,\n",
    "        \n",
    "    ):\n",
    "        self.path_covmat = './data/Pantheon+SH0ES_STAT+SYS.cov'\n",
    "        self.path_lc = './data/Pantheon+SH0ES.dat'\n",
    "        \n",
    "        #Reading the covariance matrix\n",
    "        with open(self.path_covmat, 'r') as text:\n",
    "            length = int(text.readline())\n",
    "        self.C00 = read_table(self.path_covmat).to_numpy().reshape((length, length)) \n",
    "         \n",
    "        #Reading ligth curve params\n",
    "        with open(self.path_lc, 'r') as text:\n",
    "            clean_first_line = text.readline()[1:].strip()\n",
    "            names = [e.strip().replace('3rd', 'third')\n",
    "                     for e in clean_first_line.split()]\n",
    "        self.light_curve_params = read_table(self.path_lc, sep=' ', names=names, header=0, index_col=False)\n",
    "        \n",
    "        C00 = self.C00\n",
    "        covm = ne.evaluate(\"C00\")\n",
    "        \n",
    "        sn = self.light_curve_params\n",
    "        true_size=0\n",
    "        ignored = 0\n",
    "        for ii in range(len(self.light_curve_params.zHD)):\n",
    "                if self.light_curve_params.zHD[ii]>self.z_min:\n",
    "                        true_size+=1\n",
    "                else:\n",
    "                        ignored+=1\n",
    "        #print(true_size,ignored)\n",
    "        self.true_size = true_size\n",
    "        newcovm = np.zeros((true_size,true_size), 'float64')\n",
    "        newcovm=covm[ignored:,ignored:]\n",
    "        "
   ]
  },
  {
   "cell_type": "code",
   "execution_count": 14,
   "id": "6c98108d-ef6c-417e-8dc4-b7a1f5e704b3",
   "metadata": {
    "tags": []
   },
   "outputs": [
    {
     "name": "stdout",
     "output_type": "stream",
     "text": [
      "[[ 3.177108e-02  5.754430e-03  3.100600e-04 ...  2.945500e-04\n",
      "  -8.595000e-05 -2.701100e-04]\n",
      " [ 5.754430e-03  3.456656e-02  6.595500e-04 ... -2.863200e-04\n",
      "  -2.456300e-04 -2.363400e-04]\n",
      " [ 3.100600e-04  6.595500e-04  6.125745e-02 ...  1.936450e-03\n",
      "   3.214810e-03  4.000510e-03]\n",
      " ...\n",
      " [ 2.945500e-04 -2.863200e-04  1.936450e-03 ...  4.157373e-02\n",
      "   4.902260e-03  5.887030e-03]\n",
      " [-8.595000e-05 -2.456300e-04  3.214810e-03 ...  4.902260e-03\n",
      "   6.742823e-02  8.751110e-03]\n",
      " [-2.701100e-04 -2.363400e-04  4.000510e-03 ...  5.887030e-03\n",
      "   8.751110e-03  4.499005e-02]]\n"
     ]
    }
   ],
   "source": [
    "test=Pantheon_Plus()"
   ]
  }
 ],
 "metadata": {
  "kernelspec": {
   "display_name": "Python 3 (ipykernel)",
   "language": "python",
   "name": "python3"
  },
  "language_info": {
   "codemirror_mode": {
    "name": "ipython",
    "version": 3
   },
   "file_extension": ".py",
   "mimetype": "text/x-python",
   "name": "python",
   "nbconvert_exporter": "python",
   "pygments_lexer": "ipython3",
   "version": "3.11.2"
  }
 },
 "nbformat": 4,
 "nbformat_minor": 5
}
