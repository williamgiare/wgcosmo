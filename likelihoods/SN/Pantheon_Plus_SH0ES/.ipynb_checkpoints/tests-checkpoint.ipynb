{
 "cells": [
  {
   "cell_type": "code",
   "execution_count": 9,
   "id": "652317ce-8df1-4f51-b830-5d50a95b6345",
   "metadata": {
    "tags": []
   },
   "outputs": [],
   "source": [
    "import numpy as np\n",
    "import scipy.linalg as la\n",
    "import numexpr as ne\n",
    "try:\n",
    "    import numexpr as ne\n",
    "except ImportError:\n",
    "    raise io_mp.MissingLibraryError(\n",
    "        \"This likelihood has intensive array manipulations. You \"\n",
    "        \"have to install the numexpr Python package. Please type:\\n\"\n",
    "        \"(sudo) pip install numexpr --user\")\n",
    "    \n",
    "def read_matrix(path):\n",
    "        \"\"\"\n",
    "        extract the matrix from the path\n",
    "\n",
    "        This routine uses the blazing fast pandas library (0.10 seconds to load\n",
    "        a 740x740 matrix). If not installed, it uses a custom routine that is\n",
    "        twice as slow (but still 4 times faster than the straightforward\n",
    "        numpy.loadtxt method)\n",
    "\n",
    "        .. note::\n",
    "\n",
    "            the length of the matrix is stored on the first line... then it has\n",
    "            to be unwrapped. The pandas routine read_table understands this\n",
    "            immediatly, though.\n",
    "\n",
    "        \"\"\"\n",
    "        from pandas import read_table\n",
    "        # The first line should contain the length.\n",
    "        with open(path, 'r') as text:\n",
    "            length = int(text.readline())\n",
    "\n",
    "        # Note that this function does not require to skiprows, as it\n",
    "        # understands the convention of writing the length in the first\n",
    "        # line\n",
    "        matrix = read_table(path).to_numpy().reshape((length, length))\n",
    "\n",
    "        return matrix"
   ]
  },
  {
   "cell_type": "code",
   "execution_count": 10,
   "id": "5c98fb64-07e7-46bd-8380-6c3a57d5f712",
   "metadata": {
    "tags": []
   },
   "outputs": [],
   "source": [
    "C00 = read_matrix(path='./data/Pantheon+SH0ES_STAT+SYS.cov') "
   ]
  },
  {
   "cell_type": "code",
   "execution_count": 11,
   "id": "cf1eaa99-79de-4554-bf8d-49fa9bb9e7af",
   "metadata": {
    "tags": []
   },
   "outputs": [
    {
     "data": {
      "text/plain": [
       "array([[ 3.177108e-02,  5.754430e-03,  3.100600e-04, ...,  2.945500e-04,\n",
       "        -8.595000e-05, -2.701100e-04],\n",
       "       [ 5.754430e-03,  3.456656e-02,  6.595500e-04, ..., -2.863200e-04,\n",
       "        -2.456300e-04, -2.363400e-04],\n",
       "       [ 3.100600e-04,  6.595500e-04,  6.125745e-02, ...,  1.936450e-03,\n",
       "         3.214810e-03,  4.000510e-03],\n",
       "       ...,\n",
       "       [ 2.945500e-04, -2.863200e-04,  1.936450e-03, ...,  4.157373e-02,\n",
       "         4.902260e-03,  5.887030e-03],\n",
       "       [-8.595000e-05, -2.456300e-04,  3.214810e-03, ...,  4.902260e-03,\n",
       "         6.742823e-02,  8.751110e-03],\n",
       "       [-2.701100e-04, -2.363400e-04,  4.000510e-03, ...,  5.887030e-03,\n",
       "         8.751110e-03,  4.499005e-02]])"
      ]
     },
     "execution_count": 11,
     "metadata": {},
     "output_type": "execute_result"
    }
   ],
   "source": [
    "C00"
   ]
  }
 ],
 "metadata": {
  "kernelspec": {
   "display_name": "Python 3 (ipykernel)",
   "language": "python",
   "name": "python3"
  },
  "language_info": {
   "codemirror_mode": {
    "name": "ipython",
    "version": 3
   },
   "file_extension": ".py",
   "mimetype": "text/x-python",
   "name": "python",
   "nbconvert_exporter": "python",
   "pygments_lexer": "ipython3",
   "version": "3.11.2"
  }
 },
 "nbformat": 4,
 "nbformat_minor": 5
}
