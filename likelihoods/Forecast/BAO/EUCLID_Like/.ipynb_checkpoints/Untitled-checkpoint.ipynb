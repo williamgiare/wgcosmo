{
 "cells": [
  {
   "cell_type": "code",
   "execution_count": 1,
   "id": "551814ab-807f-441e-b332-6917e426532f",
   "metadata": {
    "tags": []
   },
   "outputs": [
    {
     "name": "stdout",
     "output_type": "stream",
     "text": [
      "Importiong DESI_Like as cobaya likelihood\n"
     ]
    }
   ],
   "source": [
    "import numpy as np\n",
    "import scipy.linalg as la\n",
    "import numexpr as ne\n",
    "import pandas as pd\n",
    "from pandas import read_table\n",
    "import os,sys\n",
    "try:\n",
    "    import numexpr as ne\n",
    "except ImportError:\n",
    "    raise io_mp.MissingLibraryError(\n",
    "        \"This likelihood has intensive array manipulations. You \"\n",
    "        \"have to install the numexpr Python package. Please type:\\n\"\n",
    "        \"(sudo) pip install numexpr --user\")\n",
    "    \n",
    "\n",
    "try:\n",
    "    from cobaya.likelihood import Likelihood\n",
    "    print('Importiong DESI_Like as cobaya likelihood')\n",
    "except:\n",
    "    class Likelihood:  # dummy class to inherit if cobaya is missing\n",
    "        print('dummy class to inherit')\n",
    "        pass"
   ]
  },
  {
   "cell_type": "code",
   "execution_count": 2,
   "id": "60861176-02d8-42e0-afaf-8b9f68d3d1ff",
   "metadata": {
    "tags": []
   },
   "outputs": [],
   "source": [
    "class EUCLID_Like(Likelihood):\n",
    "    \n",
    "    name: str = \"EUCLID_Like\"\n",
    "    \n",
    "    def initialize(self):\n",
    "        \n",
    "        self.DESI_path='./data/EUCLID.txt'\n",
    "        \n",
    "        #current_path = os.path.abspath(__file__)\n",
    "        #like_path= os.path.abspath(os.path.join(current_path, os.pardir))\n",
    "        #self.DESI_path=like_path +'/data/DESI.txt'\n",
    "        \n",
    "        EUCLID_BAO = pd.read_csv(self.DESI_path, sep=',', header=None, names=['z','DA','dDA','theta', 'dtheta'], skiprows=1).sort_values(by='z')\n",
    "\n",
    "        self.z = np.array([], 'float64')\n",
    "        self.data = np.array([], 'float64')\n",
    "        self.error = np.array([], 'float64')\n",
    "        \n",
    "        self.z=EUCLID_BAO['z']\n",
    "        self.data=EUCLID_BAO['theta']\n",
    "        self.error=EUCLID_BAO['dtheta']\n",
    "        self.num_BAO=len(self.z)\n",
    "    \n",
    "        \n",
    "    def get_requirements(self):\n",
    "        \"\"\"\n",
    "         return dictionary specifying quantities calculated by a theory code are needed\n",
    "        \"\"\"\n",
    "        reqs = {\"angular_diameter_distance\": {\"z\": self.z}, 'rdrag' :None}\n",
    "\n",
    "        return reqs\n",
    "    \n",
    "    \n",
    "    def logp(self, **params_values):\n",
    "        \n",
    "        data_array = np.array([], 'float64')\n",
    "        chi2 = 0.\n",
    "        for i in range(self.num_BAO):\n",
    "            da = self.provider.get_angular_diameter_distance(self.z[i])\n",
    "            rs = self.provider.get_param(\"rdrag\")           \n",
    "            theta = rs/(da*(1 + self.z[i]))*(180/np.pi)\n",
    "            x = (self.data[i]-theta)**2 / (self.error[i])**2\n",
    "            data_array = np.append(data_array, x)\n",
    "        chi2 =np.sum(data_array)\n",
    "        loglike = - 0.5*chi2\n",
    "        \n",
    "        return loglike"
   ]
  },
  {
   "cell_type": "code",
   "execution_count": 7,
   "id": "43f40028-7ee4-4e03-8e2a-9a390fbef7a8",
   "metadata": {},
   "outputs": [],
   "source": [
    "desi=DESI_Like()"
   ]
  }
 ],
 "metadata": {
  "kernelspec": {
   "display_name": "Python 3 (ipykernel)",
   "language": "python",
   "name": "python3"
  },
  "language_info": {
   "codemirror_mode": {
    "name": "ipython",
    "version": 3
   },
   "file_extension": ".py",
   "mimetype": "text/x-python",
   "name": "python",
   "nbconvert_exporter": "python",
   "pygments_lexer": "ipython3",
   "version": "3.11.2"
  }
 },
 "nbformat": 4,
 "nbformat_minor": 5
}
