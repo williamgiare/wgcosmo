{
 "cells": [
  {
   "cell_type": "markdown",
   "metadata": {},
   "source": [
    "# MCMC EVIDENCE FOR COBAYA\n",
    "\n",
    "---"
   ]
  },
  {
   "cell_type": "markdown",
   "metadata": {
    "tags": []
   },
   "source": [
    "## Note on Bayesian Evidence Estimation\n",
    "\n",
    "This notebook provides a wrapper for computing the **Bayesian Evidence (BE)** from Markov Chain Monte Carlo (MCMC) chains produced with **Cobaya**.\n",
    "\n",
    "---\n",
    "\n",
    "#### Validation and Consistency Checks\n",
    "\n",
    "The results obtained with this wrapper have been compared to those from **CosmoMC**, showing good agreement across several model extensions. The comparison was performed using the **Planck TTTEEE + lowL + lowE + lensing** dataset. Specifically:\n",
    "\n",
    "---\n",
    "\n",
    "##### ΛCDM + $m_\\nu$\n",
    "-  **Cobaya**:  $\\log Z_{\\Lambda\\text{CDM}+m_\\nu} - \\log Z_{\\Lambda\\text{CDM}} = -3.66$\n",
    "-  **CosmoMC**:  $\\log Z_{\\Lambda\\text{CDM}+m_\\nu} - \\log Z_{\\Lambda\\text{CDM}} = -3.64$\n",
    "    \n",
    "\n",
    "---\n",
    "\n",
    "##### ΛCDM + $\\Omega_k$\n",
    "- **Cobaya**:  $\\log Z_{\\Lambda\\text{CDM}+\\Omega_k} - \\log Z_{\\Lambda\\text{CDM}} = -2.42$\n",
    "- **CosmoMC**:  $\\log Z_{\\Lambda\\text{CDM}+\\Omega_k} - \\log Z_{\\Lambda\\text{CDM}} = -2.40$\n",
    "\n",
    "---\n",
    "\n",
    "##### ΛCDM + $A_\\mathrm{lens}$ [^1]\n",
    "- **Cobaya**:  $\\log Z_{\\Lambda\\text{CDM}+A_\\mathrm{lens}} - \\log Z_{\\Lambda\\text{CDM}} = -2.99$\n",
    "- **CosmoMC**:  $\\log Z_{\\Lambda\\text{CDM}+A_\\mathrm{lens}} - \\log Z_{\\Lambda\\text{CDM}} = -3.33$\n",
    "\n",
    "(*Note* A different prior on $A_\\mathrm{lens}$ was used, which likely explains the observed discrepancy)\n",
    "\n",
    "---\n",
    "\n",
    "## Recommendation\n",
    "\n",
    "This level of agreement (typically within $\\Delta \\log Z \\lesssim 0.05$) is acceptable for most applications, especially given the intrinsic uncertainty associated with BE estimation. \n",
    "\n",
    "However, as shown in [arXiv:2212.11926](https://arxiv.org/pdf/2212.11926.pdf), the expected uncertainty in $\\log B_{ij}$ is approximately $\\sigma(\\log B_{ij}) \\sim 0.5$ when comparing results from MCEvidence and PolyChord for a multivariate Gaussian distribution. Therefore if high-precision evidence calculations are required—particularly for models with a large number of parameters beyond ΛCDM—we recommend using a **nested sampler** such as [**PolyChord**](https://github.com/PolyChord/PolyChordLite) directly.\n",
    "\n"
   ]
  },
  {
   "cell_type": "markdown",
   "metadata": {
    "tags": []
   },
   "source": [
    "---"
   ]
  },
  {
   "cell_type": "code",
   "execution_count": 1,
   "metadata": {
    "tags": []
   },
   "outputs": [],
   "source": [
    "import sys, os\n",
    "sys.path.append(\"/Users/SM1WG/Cosmology/Codes/GitHub/wgcosmo/statistics/MCMC_Evidence/\")\n",
    "from Cobaya_wrapper import *\n",
    "import pandas as pd"
   ]
  },
  {
   "cell_type": "code",
   "execution_count": 2,
   "metadata": {
    "tags": []
   },
   "outputs": [],
   "source": [
    "lcdm='./chains/lcdm' #Path to some chains"
   ]
  },
  {
   "cell_type": "code",
   "execution_count": 3,
   "metadata": {
    "tags": []
   },
   "outputs": [
    {
     "name": "stdout",
     "output_type": "stream",
     "text": [
      "===========================================================\n",
      "RUNNING MCMC EVIDENCE FOR COBAYA\n",
      "===========================================================\n",
      "\n",
      "\n",
      "1) Matching CosmoMC chains output\n",
      "\n",
      "reading ./chains/lcdm.1.txt\n",
      "reading ./chains/lcdm.2.txt\n",
      "reading ./chains/lcdm.3.txt\n",
      "reading ./chains/lcdm.4.txt\n",
      "\n",
      " 4 chains produced to mach the CosmoMC output with the following columns:\n",
      "\n",
      "['weight', 'loglike', 'ombh2', 'omch2', 'theta_MC_100', 'tau', 'ns', 'logA']\n",
      "\n",
      "\n",
      "2) producing file .ranges\n",
      "\n",
      "reading input priors ombh2 0.005 0.1\n",
      "reading input priors omch2 0.001 0.99\n",
      "reading input priors theta_MC_100 0.5 10.0\n",
      "reading input priors tau 0.01 0.8\n",
      "reading input priors ns 0.8 1.2\n",
      "reading input priors logA 1.61 3.91\n",
      "\n",
      "producing output: ./chains/lcdm_BE.ranges\n",
      "\n",
      "      Param    min    max\n",
      "0  omegabh2  0.005   0.10\n",
      "1  omegach2  0.001   0.99\n",
      "2     theta  0.500  10.00\n",
      "3       tau  0.010   0.80\n",
      "4        ns  0.800   1.20\n",
      "5      logA  1.610   3.91\n",
      "\n",
      "Information to be inferred (double check):\n",
      "- prior_volume: 0.6487216929999998\n",
      "- Number of params to use: ndim= 6\n",
      "\n",
      "\n",
      "3) Running MCEvidence for Cobaya\n"
     ]
    },
    {
     "name": "stderr",
     "output_type": "stream",
     "text": [
      "INFO:MCEvidence.py.params_info():1214     getting params info from COSMOMC file ./chains/lcdm_BE.ranges\n",
      "/Users/SM1WG/Cosmology/Codes/GitHub/wgcosmo/statistics/MCMC_Evidence/MCEvidence.py:1215: VisibleDeprecationWarning: Reading unicode strings without specifying the encoding argument is deprecated. Set the encoding, use None for the system default.\n",
      "  par=np.genfromtxt(fname+'.ranges',dtype=None,names=('name','min','max'))#,unpack=True)\n",
      "INFO:MCEvidence.py.get_prior_volume():1318     getting prior volume using cosmomc *.ranges or montepython log.param outputs\n",
      "INFO:MCEvidence.py.get_prior_volume():1319     prior_volume=0.6487216929999998\n",
      "INFO:MCEvidence.py.get_prior_volume():1320     Number of params to use: ndim=6\n",
      "INFO:MCEvidence.py.setup():142      Loading chain from ./chains/lcdm_BE\n",
      "INFO:MCEvidence.py.load_from_file():595       loading files: ./chains/lcdm_BE.?.txt\n",
      "INFO:MCEvidence.py.read_list_to_array():563      loading: ./chains/lcdm_BE.4.txt\n",
      "INFO:MCEvidence.py.read_list_to_array():563      loading: ./chains/lcdm_BE.1.txt\n",
      "INFO:MCEvidence.py.read_list_to_array():563      loading: ./chains/lcdm_BE.2.txt\n",
      "INFO:MCEvidence.py.read_list_to_array():563      loading: ./chains/lcdm_BE.3.txt\n",
      "INFO:MCEvidence.py.removeBurn():373      Removing 4413 lines as burn in\n",
      "INFO:MCEvidence.py.removeBurn():373      Removing 4320 lines as burn in\n",
      "INFO:MCEvidence.py.removeBurn():373      Removing 4411 lines as burn in\n",
      "INFO:MCEvidence.py.removeBurn():373      Removing 4404 lines as burn in\n",
      "INFO:MCEvidence.py.__init__():781      chain array dimensions: [40947] x 6 =\n",
      "INFO:MCEvidence.py.get_covariance():859      Estimating covariance matrix using all chains\n",
      "INFO:MCEvidence.py.get_covariance():863      covariance matrix estimated using nsample=40947\n",
      "INFO:MCEvidence.py.get_samples():910      getting samples for partition s1: nsamples=40947\n",
      "INFO:MCEvidence.py.evidence():1163        ln(B)[k=1] = -1423.3937702318995\n"
     ]
    },
    {
     "name": "stdout",
     "output_type": "stream",
     "text": [
      "===========================================================\n",
      "[ Planck ]         ln(B)[k=1] = -1423.3937702318995\n",
      "===========================================================\n",
      "\n",
      "\n"
     ]
    }
   ],
   "source": [
    "params=[\"ombh2\",\"omch2\",\"theta_MC_100\",\"tau\",\"ns\",\"logA\"]\n",
    "evidences = MCMC_Evidence(lcdm,params,labels='Planck',get_results=True)"
   ]
  },
  {
   "cell_type": "code",
   "execution_count": 4,
   "metadata": {
    "tags": []
   },
   "outputs": [
    {
     "name": "stdout",
     "output_type": "stream",
     "text": [
      "===========================================================\n",
      "RUNNING MCMC EVIDENCE FOR COBAYA\n",
      "===========================================================\n"
     ]
    },
    {
     "name": "stderr",
     "output_type": "stream",
     "text": [
      "INFO:MCEvidence.py.params_info():1214     getting params info from COSMOMC file ./chains/lcdm_BE.ranges\n",
      "/Users/SM1WG/Cosmology/Codes/GitHub/wgcosmo/statistics/MCMC_Evidence/MCEvidence.py:1215: VisibleDeprecationWarning: Reading unicode strings without specifying the encoding argument is deprecated. Set the encoding, use None for the system default.\n",
      "  par=np.genfromtxt(fname+'.ranges',dtype=None,names=('name','min','max'))#,unpack=True)\n",
      "INFO:MCEvidence.py.get_prior_volume():1318     getting prior volume using cosmomc *.ranges or montepython log.param outputs\n",
      "INFO:MCEvidence.py.get_prior_volume():1319     prior_volume=0.6487216929999998\n",
      "INFO:MCEvidence.py.get_prior_volume():1320     Number of params to use: ndim=6\n",
      "INFO:MCEvidence.py.setup():142      Loading chain from ./chains/lcdm_BE\n",
      "INFO:MCEvidence.py.load_from_file():595       loading files: ./chains/lcdm_BE.?.txt\n",
      "INFO:MCEvidence.py.read_list_to_array():563      loading: ./chains/lcdm_BE.4.txt\n",
      "INFO:MCEvidence.py.read_list_to_array():563      loading: ./chains/lcdm_BE.1.txt\n",
      "INFO:MCEvidence.py.read_list_to_array():563      loading: ./chains/lcdm_BE.2.txt\n",
      "INFO:MCEvidence.py.read_list_to_array():563      loading: ./chains/lcdm_BE.3.txt\n",
      "INFO:MCEvidence.py.removeBurn():373      Removing 4413 lines as burn in\n",
      "INFO:MCEvidence.py.removeBurn():373      Removing 4320 lines as burn in\n",
      "INFO:MCEvidence.py.removeBurn():373      Removing 4411 lines as burn in\n",
      "INFO:MCEvidence.py.removeBurn():373      Removing 4404 lines as burn in\n",
      "INFO:MCEvidence.py.__init__():781      chain array dimensions: [40947] x 6 =\n",
      "INFO:MCEvidence.py.get_covariance():859      Estimating covariance matrix using all chains\n",
      "INFO:MCEvidence.py.get_covariance():863      covariance matrix estimated using nsample=40947\n",
      "INFO:MCEvidence.py.get_samples():910      getting samples for partition s1: nsamples=40947\n",
      "INFO:MCEvidence.py.evidence():1163        ln(B)[k=1] = -1423.3937702318995\n"
     ]
    },
    {
     "name": "stdout",
     "output_type": "stream",
     "text": [
      "===========================================================\n",
      "[ Planck ]         ln(B)[k=1] = -1423.3937702318995\n",
      "===========================================================\n",
      "\n",
      "\n"
     ]
    }
   ],
   "source": [
    "# You might say, there is no need to be so verbose :P\n",
    "\n",
    "MCMC_Evidence(lcdm,params,labels='Planck',verbose=False)"
   ]
  },
  {
   "cell_type": "code",
   "execution_count": 5,
   "metadata": {
    "tags": []
   },
   "outputs": [
    {
     "name": "stdout",
     "output_type": "stream",
     "text": [
      "===========================================================\n",
      "RUNNING MCMC EVIDENCE FOR COBAYA\n",
      "===========================================================\n",
      "\n",
      "\n",
      "1) Matching CosmoMC chains output\n",
      "\n",
      "reading ./chains/lcdm.1.txt\n",
      "reading ./chains/lcdm.2.txt\n",
      "reading ./chains/lcdm.3.txt\n",
      "reading ./chains/lcdm.4.txt\n",
      "\n",
      " 4 chains produced to mach the CosmoMC output with the following columns:\n",
      "\n",
      "['weight', 'loglike', 'ombh2', 'omch2', 'theta_MC_100', 'tau', 'ns', 'logA']\n",
      "\n",
      "\n",
      "2) producing file .ranges\n",
      "\n",
      "reading input priors ombh2 0.006 0.11\n",
      "reading input priors omch2 0.002 0.1\n",
      "reading input priors theta_MC_100 0.500 11.00\n",
      "reading input priors tau 0.01 0.8\n",
      "reading input priors ns 0.8 0.99\n",
      "reading input priors logA 1.611 3.92\n",
      "\n",
      "producing output: ./chains/lcdm_BE.ranges\n",
      "\n",
      "      Param    min    max\n",
      "0  omegabh2  0.006   0.11\n",
      "1  omegach2  0.002    0.1\n",
      "2     theta  0.500  11.00\n",
      "3       tau   0.01    0.8\n",
      "4        ns    0.8   0.99\n",
      "5      logA  1.611   3.92\n",
      "\n",
      "Information to be inferred (double check):\n",
      "- prior_volume: 0.0370897015944\n",
      "- Number of params to use: ndim= 6\n",
      "\n",
      "\n",
      "3) Running MCEvidence for Cobaya\n"
     ]
    },
    {
     "name": "stderr",
     "output_type": "stream",
     "text": [
      "INFO:MCEvidence.py.params_info():1214     getting params info from COSMOMC file ./chains/lcdm_BE.ranges\n",
      "/Users/SM1WG/Cosmology/Codes/GitHub/wgcosmo/statistics/MCMC_Evidence/MCEvidence.py:1215: VisibleDeprecationWarning: Reading unicode strings without specifying the encoding argument is deprecated. Set the encoding, use None for the system default.\n",
      "  par=np.genfromtxt(fname+'.ranges',dtype=None,names=('name','min','max'))#,unpack=True)\n",
      "INFO:MCEvidence.py.get_prior_volume():1318     getting prior volume using cosmomc *.ranges or montepython log.param outputs\n",
      "INFO:MCEvidence.py.get_prior_volume():1319     prior_volume=0.0370897015944\n",
      "INFO:MCEvidence.py.get_prior_volume():1320     Number of params to use: ndim=6\n",
      "INFO:MCEvidence.py.setup():142      Loading chain from ./chains/lcdm_BE\n",
      "INFO:MCEvidence.py.load_from_file():595       loading files: ./chains/lcdm_BE.?.txt\n",
      "INFO:MCEvidence.py.read_list_to_array():563      loading: ./chains/lcdm_BE.4.txt\n",
      "INFO:MCEvidence.py.read_list_to_array():563      loading: ./chains/lcdm_BE.1.txt\n",
      "INFO:MCEvidence.py.read_list_to_array():563      loading: ./chains/lcdm_BE.2.txt\n",
      "INFO:MCEvidence.py.read_list_to_array():563      loading: ./chains/lcdm_BE.3.txt\n",
      "INFO:MCEvidence.py.removeBurn():373      Removing 4413 lines as burn in\n",
      "INFO:MCEvidence.py.removeBurn():373      Removing 4320 lines as burn in\n",
      "INFO:MCEvidence.py.removeBurn():373      Removing 4411 lines as burn in\n",
      "INFO:MCEvidence.py.removeBurn():373      Removing 4404 lines as burn in\n",
      "INFO:MCEvidence.py.__init__():781      chain array dimensions: [40947] x 6 =\n",
      "INFO:MCEvidence.py.get_covariance():859      Estimating covariance matrix using all chains\n",
      "INFO:MCEvidence.py.get_covariance():863      covariance matrix estimated using nsample=40947\n",
      "INFO:MCEvidence.py.get_samples():910      getting samples for partition s1: nsamples=40947\n",
      "INFO:MCEvidence.py.evidence():1163        ln(B)[k=1] = -1420.5321057775348\n"
     ]
    },
    {
     "name": "stdout",
     "output_type": "stream",
     "text": [
      "===========================================================\n",
      "[ Planck ]         ln(B)[k=1] = -1420.5321057775348\n",
      "===========================================================\n",
      "\n",
      "\n"
     ]
    }
   ],
   "source": [
    "# The code automatically reads the priors for the different parameters, \n",
    "# but you can also modify or override them manually if needed.\n",
    "# See the example below for illustrative purposes (BTW, priors matter!)\n",
    "\n",
    "params=[\"ombh2:0.006/0.11\",\n",
    "        \"omch2:0.002/0.1\",\n",
    "        \"theta_MC_100:0.500/11.00\",\n",
    "        \"tau:0.01/0.8\",\n",
    "        \"ns:0.8/0.99\",\n",
    "        \"logA:1.611/3.92\"]\n",
    "\n",
    "MCMC_Evidence(lcdm,params,labels='Planck')"
   ]
  }
 ],
 "metadata": {
  "kernelspec": {
   "display_name": "Python 3 (ipykernel)",
   "language": "python",
   "name": "python3"
  },
  "language_info": {
   "codemirror_mode": {
    "name": "ipython",
    "version": 3
   },
   "file_extension": ".py",
   "mimetype": "text/x-python",
   "name": "python",
   "nbconvert_exporter": "python",
   "pygments_lexer": "ipython3",
   "version": "3.11.2"
  }
 },
 "nbformat": 4,
 "nbformat_minor": 4
}
