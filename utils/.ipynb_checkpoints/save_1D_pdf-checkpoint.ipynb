{
 "cells": [
  {
   "cell_type": "code",
   "execution_count": null,
   "metadata": {
    "tags": []
   },
   "outputs": [],
   "source": [
    "from __future__ import print_function\n",
    "%matplotlib inline\n",
    "%config InlineBackend.figure_format = 'retina'\n",
    "import sys, os\n",
    "import getdist\n",
    "from getdist import plots, loadMCSamples, MCSamples\n",
    "import matplotlib.pyplot as plt\n",
    "import IPython\n",
    "import pandas as pd\n",
    "import numpy as np"
   ]
  },
  {
   "cell_type": "code",
   "execution_count": 2,
   "metadata": {
    "tags": []
   },
   "outputs": [],
   "source": [
    "def get_dat(dens1D):\n",
    "    param = np.zeros(dens1D.x.size, dtype=[('x', float),('Px', float)])\n",
    "    param['x'] = dens1D.x\n",
    "    param['Px'] = dens1D.P\n",
    "    return param"
   ]
  },
  {
   "cell_type": "code",
   "execution_count": 3,
   "metadata": {
    "tags": []
   },
   "outputs": [],
   "source": [
    "def toFILE(w,tag,hstr=\"%8s %16s \"%('x','Pdf(x)'),iscov=False,fmt= ['%16.7e','%16.7e']):\n",
    "    r\" function writing to file the outcome of the fiducial generation.\"\n",
    "\n",
    "\n",
    "    w = np.transpose(w)\n",
    "    np.savetxt(tag,\n",
    "               w,\n",
    "               delimiter=' ',\n",
    "               newline='\\n',\n",
    "               header=hstr,\n",
    "               fmt=fmt)\n",
    "    pass\n"
   ]
  },
  {
   "cell_type": "code",
   "execution_count": null,
   "metadata": {
    "tags": []
   },
   "outputs": [
    {
     "data": {
      "text/plain": [
       "<getdist.paramnames.ParamInfo at 0x28e3cc350>"
      ]
     },
     "execution_count": 4,
     "metadata": {},
     "output_type": "execute_result"
    }
   ],
   "source": [
    "lcdm='chains/lcdm' #path to some chains\n",
    "chains_lcdm=getdist.loadMCSamples(lcdm, settings={'ignore_rows':0.3})\n",
    "#lcdm\n",
    "dens1D_lcdm = get_dat(chains_lcdm.get1DDensity(\"H0\"))\n",
    "toFILE(dens1D_lcdm,\n",
    "       './posterior_H0/lcdm.dat', #path to some directory\n",
    "       hstr=\"%8s %16s \"%('H0','Pdf(H0)'),\n",
    "       fmt= ['%16.7e','%16.7e'])"
   ]
  }
 ],
 "metadata": {
  "kernelspec": {
   "display_name": "Python 3 (ipykernel)",
   "language": "python",
   "name": "python3"
  },
  "language_info": {
   "codemirror_mode": {
    "name": "ipython",
    "version": 3
   },
   "file_extension": ".py",
   "mimetype": "text/x-python",
   "name": "python",
   "nbconvert_exporter": "python",
   "pygments_lexer": "ipython3",
   "version": "3.11.2"
  }
 },
 "nbformat": 4,
 "nbformat_minor": 4
}
