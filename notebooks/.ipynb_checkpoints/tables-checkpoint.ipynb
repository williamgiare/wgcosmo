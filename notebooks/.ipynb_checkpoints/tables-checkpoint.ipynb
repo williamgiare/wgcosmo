{
 "cells": [
  {
   "cell_type": "code",
   "execution_count": 1,
   "metadata": {},
   "outputs": [],
   "source": [
    "from Tables import *"
   ]
  },
  {
   "cell_type": "code",
   "execution_count": 2,
   "metadata": {},
   "outputs": [],
   "source": [
    "#1)Mandatory: Roots (link to chains)\n",
    "# e.g.,\n",
    "P18 =     'test_chains/P18/nuDM_P18'\n",
    "P18_BAO=  'test_chains/P18/nuDM_P18_BAO'\n",
    "ACT=      'test_chains/ACT/nuDM_ACT'\n",
    "ACT_BAO=  'test_chains/ACT/nuDM_ACT_BAO'\n",
    "\n",
    "roots=[P18,P18_BAO,ACT,ACT_BAO]\n",
    "\n",
    "#2)Mandatory: parameters (params to appear in the table with the corrisponding limit(s))\n",
    "# the syntax is \"paranems:limit\"\n",
    "# limit should be 1 (for 68 CL), 2 (for 95 CL), 3 (for 99 CL) or both/Both/b/B (for 68 and 95 CL)\n",
    "# you can pass any parameter that the sample understands, following the same nomeclature adopted in the run\n",
    "# e.g. for this running with CLASS and new parameters \"omega_nudm\" and \"x\" you can pass: \n",
    "params =[\"omega_b:1\", \"omega_nudm:1\", \"theta_s_1e2:1\", \"tau_reio:1\", \"ns:1\", \"logA:1\",\"x:both\", \"H0:both\", \"sigma8:1\"]\n",
    "\n",
    "#3)Optional: col_labels (name of columns), \n",
    "# it should be len(col_labels)=len(roots); the first coulmn label is automatically set to \"Parameter\"\n",
    "datasets=[\"P18\", \"P18 + BA0\", \"ACT\", \"ACT+BAO\"]\n",
    "\n",
    "#4) Optionl: caption\n",
    "# Caption of the table\n",
    "_caption=\"caption test\"\n",
    "\n",
    "#5) Optional: label\n",
    "# table label, to use in latex with \\ref{} or \\autoref{}\n",
    "_label=\"tab_label_test\"\n",
    "\n",
    "#6) Optional: Info (= False by default)\n",
    "# resume entry information \n",
    "# sould be either True or False\n"
   ]
  },
  {
   "cell_type": "code",
   "execution_count": 3,
   "metadata": {},
   "outputs": [
    {
     "name": "stdout",
     "output_type": "stream",
     "text": [
      "Please, copy what follows on a latex document to get the table\n",
      "\n",
      "\n",
      "%====================================================\n",
      "\n",
      "\n",
      "\\begin{table*}\n",
      "\\begin{center}\n",
      "\\renewcommand{\\arraystretch}{1.5}\n",
      "\\resizebox{\\textwidth}{!}{\n",
      "\\begin{tabular}{l c c c c c c c c c c c c c c c }\n",
      "\\hline\n",
      "\\textbf{Parameter} & \\textbf{ P18 } & \\textbf{ P18 + BA0 } & \\textbf{ ACT } & \\textbf{ ACT+BAO } \\\\ \n",
      "\\hline\\hline\n",
      "\n",
      "$ \\Omega_\\mathrm{b} h^2  $ & $  0.02239\\pm 0.00015 $ & $  0.02239\\pm 0.00013 $ & $  0.02154\\pm 0.00031 $ & $  0.02154\\pm 0.00030 $ \\\\ \n",
      "$ \\Omega_\\mathrm{c}^{\\mathrm{nuDM}} h^2  $ & $  0.1196\\pm 0.0012 $ & $  0.11957\\pm 0.00093 $ & $  0.1184\\pm 0.0040 $ & $  0.1197\\pm 0.0015 $ \\\\ \n",
      "$ 100\\theta_\\mathrm{s}  $ & $  1.04193\\pm 0.00029 $ & $  1.04192\\pm 0.00028 $ & $  1.04336\\pm 0.00069 $ & $  1.04322\\pm 0.00063 $ \\\\ \n",
      "$ \\tau_\\mathrm{reio}  $ & $  0.0527\\pm 0.0074 $ & $  0.0525\\pm 0.0072 $ & $  0.065\\pm 0.015 $ & $  0.062\\pm 0.014 $ \\\\ \n",
      "$ n_\\mathrm{s}  $ & $  0.9641\\pm 0.0045 $ & $  0.9642\\pm 0.0038 $ & $  1.005\\pm 0.016 $ & $  1.001\\pm 0.014 $ \\\\ \n",
      "$ \\log(10^{10} A_\\mathrm{s})  $ & $  3.039\\pm 0.014 $ & $  3.038\\pm 0.014 $ & $  3.050\\pm 0.030 $ & $  3.047\\pm 0.030 $ \\\\ \n",
      "$ log_{10}u_\\mathrm{urDM}  $ & $ < -4.42\\, (< -3.95 ) $ & $ < -4.44\\, (< -4.07 ) $ & $  -5.03^{+1.3}_{-0.54}\\, (< -3.74 ) $ & $  -4.86^{+1.3}_{-0.43}\\, (< -3.71 ) $ \\\\ \n",
      "$ H_0  $ & $  68.04\\pm 0.56\\, ( 68.0^{+1.1}_{-1.1} ) $ & $  68.05\\pm 0.42\\, ( 68.05^{+0.81}_{-0.82} ) $ & $  68.2\\pm 1.6\\, ( 68.2^{+3.3}_{-3.0} ) $ & $  67.68\\pm 0.58\\, ( 67.7^{+1.1}_{-1.2} ) $ \\\\ \n",
      "$ \\sigma_8  $ & $  0.806^{+0.012}_{-0.0067} $ & $  0.8074^{+0.0098}_{-0.0068} $ & $  0.823^{+0.024}_{-0.017} $ & $  0.822^{+0.024}_{-0.015} $ \\\\ \n",
      "\n",
      "\\hline \\hline\n",
      "\\end{tabular} }\n",
      "\\end{center}\n",
      "\\caption{ caption test }\n",
      "\\label{ tab_label_test }\n",
      "\\end{table*}\n",
      "\n",
      "\n",
      "%====================================================\n"
     ]
    }
   ],
   "source": [
    "get_table(roots, params, col_labels=datasets,caption=_caption, label=_label)"
   ]
  },
  {
   "cell_type": "code",
   "execution_count": 4,
   "metadata": {},
   "outputs": [
    {
     "name": "stdout",
     "output_type": "stream",
     "text": [
      "Table requested with the following entries\n",
      "\n",
      "number of columns:  5\n",
      "column labels: | Parameter |  P18 | P18 + BA0 | ACT | ACT+BAO | \n",
      "\n",
      "caption: caption test\n",
      "table label: tab_label_test\n",
      "\n",
      "\n",
      "Parameters with limits:\n",
      "parmater: omega_b limit: 1\n",
      "parmater: omega_nudm limit: 1\n",
      "parmater: theta_s_1e2 limit: 1\n",
      "parmater: tau_reio limit: 1\n",
      "parmater: ns limit: 1\n",
      "parmater: logA limit: 1\n",
      "parmater: x limit: both\n",
      "parmater: H0 limit: both\n",
      "parmater: sigma8 limit: 1\n",
      "\n",
      "\n",
      "Please, copy what follows on a latex document to get the table\n",
      "\n",
      "\n",
      "%====================================================\n",
      "\n",
      "\n",
      "\\begin{table*}\n",
      "\\begin{center}\n",
      "\\renewcommand{\\arraystretch}{1.5}\n",
      "\\resizebox{\\textwidth}{!}{\n",
      "\\begin{tabular}{l c c c c c c c c c c c c c c c }\n",
      "\\hline\n",
      "\\textbf{Parameter} & \\textbf{ P18 } & \\textbf{ P18 + BA0 } & \\textbf{ ACT } & \\textbf{ ACT+BAO } \\\\ \n",
      "\\hline\\hline\n",
      "\n",
      "$ \\Omega_\\mathrm{b} h^2  $ & $  0.02239\\pm 0.00015 $ & $  0.02239\\pm 0.00013 $ & $  0.02154\\pm 0.00031 $ & $  0.02154\\pm 0.00030 $ \\\\ \n",
      "$ \\Omega_\\mathrm{c}^{\\mathrm{nuDM}} h^2  $ & $  0.1196\\pm 0.0012 $ & $  0.11957\\pm 0.00093 $ & $  0.1184\\pm 0.0040 $ & $  0.1197\\pm 0.0015 $ \\\\ \n",
      "$ 100\\theta_\\mathrm{s}  $ & $  1.04193\\pm 0.00029 $ & $  1.04192\\pm 0.00028 $ & $  1.04336\\pm 0.00069 $ & $  1.04322\\pm 0.00063 $ \\\\ \n",
      "$ \\tau_\\mathrm{reio}  $ & $  0.0527\\pm 0.0074 $ & $  0.0525\\pm 0.0072 $ & $  0.065\\pm 0.015 $ & $  0.062\\pm 0.014 $ \\\\ \n",
      "$ n_\\mathrm{s}  $ & $  0.9641\\pm 0.0045 $ & $  0.9642\\pm 0.0038 $ & $  1.005\\pm 0.016 $ & $  1.001\\pm 0.014 $ \\\\ \n",
      "$ \\log(10^{10} A_\\mathrm{s})  $ & $  3.039\\pm 0.014 $ & $  3.038\\pm 0.014 $ & $  3.050\\pm 0.030 $ & $  3.047\\pm 0.030 $ \\\\ \n",
      "$ log_{10}u_\\mathrm{urDM}  $ & $ < -4.42\\, (< -3.95 ) $ & $ < -4.44\\, (< -4.07 ) $ & $  -5.03^{+1.3}_{-0.54}\\, (< -3.74 ) $ & $  -4.86^{+1.3}_{-0.43}\\, (< -3.71 ) $ \\\\ \n",
      "$ H_0  $ & $  68.04\\pm 0.56\\, ( 68.0^{+1.1}_{-1.1} ) $ & $  68.05\\pm 0.42\\, ( 68.05^{+0.81}_{-0.82} ) $ & $  68.2\\pm 1.6\\, ( 68.2^{+3.3}_{-3.0} ) $ & $  67.68\\pm 0.58\\, ( 67.7^{+1.1}_{-1.2} ) $ \\\\ \n",
      "$ \\sigma_8  $ & $  0.806^{+0.012}_{-0.0067} $ & $  0.8074^{+0.0098}_{-0.0068} $ & $  0.823^{+0.024}_{-0.017} $ & $  0.822^{+0.024}_{-0.015} $ \\\\ \n",
      "\n",
      "\\hline \\hline\n",
      "\\end{tabular} }\n",
      "\\end{center}\n",
      "\\caption{ caption test }\n",
      "\\label{ tab_label_test }\n",
      "\\end{table*}\n",
      "\n",
      "\n",
      "%====================================================\n"
     ]
    }
   ],
   "source": [
    "#when info=True is passed:\n",
    "get_table(roots, params, col_labels=datasets,caption=_caption, label=_label, info=True)"
   ]
  },
  {
   "cell_type": "code",
   "execution_count": null,
   "metadata": {},
   "outputs": [],
   "source": []
  }
 ],
 "metadata": {
  "kernelspec": {
   "display_name": "Python 3 (ipykernel)",
   "language": "python",
   "name": "python3"
  },
  "language_info": {
   "codemirror_mode": {
    "name": "ipython",
    "version": 3
   },
   "file_extension": ".py",
   "mimetype": "text/x-python",
   "name": "python",
   "nbconvert_exporter": "python",
   "pygments_lexer": "ipython3",
   "version": "3.11.2"
  }
 },
 "nbformat": 4,
 "nbformat_minor": 4
}
